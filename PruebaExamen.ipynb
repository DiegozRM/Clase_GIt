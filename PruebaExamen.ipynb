{
  "nbformat": 4,
  "nbformat_minor": 0,
  "metadata": {
    "colab": {
      "provenance": [],
      "gpuType": "T4",
      "authorship_tag": "ABX9TyOSGZKvzvs9QqEtIbcXI4MB",
      "include_colab_link": true
    },
    "kernelspec": {
      "name": "python3",
      "display_name": "Python 3"
    },
    "language_info": {
      "name": "python"
    },
    "accelerator": "GPU"
  },
  "cells": [
    {
      "cell_type": "markdown",
      "metadata": {
        "id": "view-in-github",
        "colab_type": "text"
      },
      "source": [
        "<a href=\"https://colab.research.google.com/github/DiegozRM/Clase_GIt/blob/master/PruebaExamen.ipynb\" target=\"_parent\"><img src=\"https://colab.research.google.com/assets/colab-badge.svg\" alt=\"Open In Colab\"/></a>"
      ]
    },
    {
      "cell_type": "code",
      "source": [
        "import os\n",
        "import pandas as pd\n",
        "import numpy as np\n",
        "from sklearn.model_selection import train_test_split, cross_val_score\n",
        "from sklearn.neural_network import MLPClassifier\n",
        "from sklearn.metrics import confusion_matrix\n",
        "from sklearn.preprocessing import StandardScaler\n",
        "from imblearn.over_sampling import RandomOverSampler"
      ],
      "metadata": {
        "id": "_KMbprPPFTNz"
      },
      "execution_count": 176,
      "outputs": []
    },
    {
      "cell_type": "code",
      "source": [
        "\n",
        "os.chdir(\"/content/Datos\")\n",
        "datos = pd.read_csv('DatasetVirus.csv',delimiter=',',decimal=\".\")\n",
        "print(datos.shape)\n",
        "print(datos.head())\n",
        "print(datos.info())"
      ],
      "metadata": {
        "colab": {
          "base_uri": "https://localhost:8080/"
        },
        "id": "gLeWP5IyanX7",
        "outputId": "d0e2e39c-0f7e-4edc-9740-3f3586fdfb56"
      },
      "execution_count": 177,
      "outputs": [
        {
          "output_type": "stream",
          "name": "stdout",
          "text": [
            "(108, 35)\n",
            "     Nombre       Ala    B       Cys       Asp       Glu       Phe       Gly  \\\n",
            "0  AB014795  1.869159  0.0  1.869159  0.934579  7.476636  1.869159  6.542056   \n",
            "1  AF062029  3.680982  0.0  3.680982  2.453988  5.521472  3.067485  7.975460   \n",
            "2  AF062031  3.246753  0.0  3.896104  2.597403  5.194805  3.246753  7.142857   \n",
            "3  AF062033  3.164557  0.0  3.797468  2.531646  3.797468  3.164557  8.860759   \n",
            "4  AF107771  6.698565  0.0  1.435407  4.784689  9.090909  3.827751  7.655502   \n",
            "\n",
            "        His        Ile  ...  Z  Num Amino Acidos  Peso Molecular  pI Teorico  \\\n",
            "0  1.869159  10.280374  ...  0               107        12204.05        9.86   \n",
            "1  2.453988  11.042945  ...  0               163        17929.58        8.92   \n",
            "2  2.597403  11.038961  ...  0               154        17112.73        9.05   \n",
            "3  2.531646   9.493671  ...  0               158        17393.91        9.43   \n",
            "4  5.263158   2.870813  ...  0               209        24021.07        5.99   \n",
            "\n",
            "   Carbon  Hidrogeno  Nitrogeno  Oxigeno  Sulfuro  Clasificacion  \n",
            "0     538        886        160      159        2           R5X4  \n",
            "1     791       1275        221      239        7           R5X4  \n",
            "2     758       1215        209      225        8           R5X4  \n",
            "3     765       1226        220      229        7           R5X4  \n",
            "4    1082       1622        298      310        8           R5X4  \n",
            "\n",
            "[5 rows x 35 columns]\n",
            "<class 'pandas.core.frame.DataFrame'>\n",
            "RangeIndex: 108 entries, 0 to 107\n",
            "Data columns (total 35 columns):\n",
            " #   Column            Non-Null Count  Dtype  \n",
            "---  ------            --------------  -----  \n",
            " 0   Nombre            108 non-null    object \n",
            " 1   Ala               108 non-null    float64\n",
            " 2   B                 108 non-null    float64\n",
            " 3   Cys               108 non-null    float64\n",
            " 4   Asp               108 non-null    float64\n",
            " 5   Glu               108 non-null    float64\n",
            " 6   Phe               108 non-null    float64\n",
            " 7   Gly               108 non-null    float64\n",
            " 8   His               108 non-null    float64\n",
            " 9   Ile               108 non-null    float64\n",
            " 10  Lys               108 non-null    float64\n",
            " 11  Leu               108 non-null    float64\n",
            " 12  Met               108 non-null    float64\n",
            " 13  Asn               108 non-null    float64\n",
            " 14  Pyl               108 non-null    int64  \n",
            " 15  Pro               108 non-null    float64\n",
            " 16  Gln               108 non-null    float64\n",
            " 17  Arg               108 non-null    float64\n",
            " 18  Ser               108 non-null    float64\n",
            " 19  Thr               108 non-null    float64\n",
            " 20  Sec               108 non-null    int64  \n",
            " 21  Val               108 non-null    float64\n",
            " 22  Trp               108 non-null    float64\n",
            " 23  X                 108 non-null    float64\n",
            " 24  Tyr               108 non-null    float64\n",
            " 25  Z                 108 non-null    int64  \n",
            " 26  Num Amino Acidos  108 non-null    int64  \n",
            " 27  Peso Molecular    108 non-null    float64\n",
            " 28  pI Teorico        108 non-null    float64\n",
            " 29  Carbon            108 non-null    int64  \n",
            " 30  Hidrogeno         108 non-null    int64  \n",
            " 31  Nitrogeno         108 non-null    int64  \n",
            " 32  Oxigeno           108 non-null    int64  \n",
            " 33  Sulfuro           108 non-null    int64  \n",
            " 34  Clasificacion     108 non-null    object \n",
            "dtypes: float64(24), int64(9), object(2)\n",
            "memory usage: 29.7+ KB\n",
            "None\n"
          ]
        }
      ]
    },
    {
      "cell_type": "code",
      "source": [
        "X = datos.iloc[0:,1:34]\n",
        "print(X.head())"
      ],
      "metadata": {
        "colab": {
          "base_uri": "https://localhost:8080/"
        },
        "id": "mtIHQXcUbbXZ",
        "outputId": "c176481e-d952-4ef9-99a0-c4aa60f9d163"
      },
      "execution_count": 178,
      "outputs": [
        {
          "output_type": "stream",
          "name": "stdout",
          "text": [
            "        Ala    B       Cys       Asp       Glu       Phe       Gly       His  \\\n",
            "0  1.869159  0.0  1.869159  0.934579  7.476636  1.869159  6.542056  1.869159   \n",
            "1  3.680982  0.0  3.680982  2.453988  5.521472  3.067485  7.975460  2.453988   \n",
            "2  3.246753  0.0  3.896104  2.597403  5.194805  3.246753  7.142857  2.597403   \n",
            "3  3.164557  0.0  3.797468  2.531646  3.797468  3.164557  8.860759  2.531646   \n",
            "4  6.698565  0.0  1.435407  4.784689  9.090909  3.827751  7.655502  5.263158   \n",
            "\n",
            "         Ile       Lys  ...       Tyr  Z  Num Amino Acidos  Peso Molecular  \\\n",
            "0  10.280374  7.476636  ...  1.869159  0               107        12204.05   \n",
            "1  11.042945  7.975460  ...  2.453988  0               163        17929.58   \n",
            "2  11.038961  8.441558  ...  3.246753  0               154        17112.73   \n",
            "3   9.493671  7.594937  ...  3.164557  0               158        17393.91   \n",
            "4   2.870813  5.741627  ...  3.827751  0               209        24021.07   \n",
            "\n",
            "   pI Teorico  Carbon  Hidrogeno  Nitrogeno  Oxigeno  Sulfuro  \n",
            "0        9.86     538        886        160      159        2  \n",
            "1        8.92     791       1275        221      239        7  \n",
            "2        9.05     758       1215        209      225        8  \n",
            "3        9.43     765       1226        220      229        7  \n",
            "4        5.99    1082       1622        298      310        8  \n",
            "\n",
            "[5 rows x 33 columns]\n"
          ]
        }
      ]
    },
    {
      "cell_type": "code",
      "source": [
        "y = datos.iloc[:,34:35]\n",
        "print(y.head())"
      ],
      "metadata": {
        "colab": {
          "base_uri": "https://localhost:8080/"
        },
        "id": "tTd7VElac1FT",
        "outputId": "443533d2-8e04-4eaf-af90-24dd43aa199e"
      },
      "execution_count": 179,
      "outputs": [
        {
          "output_type": "stream",
          "name": "stdout",
          "text": [
            "  Clasificacion\n",
            "0          R5X4\n",
            "1          R5X4\n",
            "2          R5X4\n",
            "3          R5X4\n",
            "4          R5X4\n"
          ]
        }
      ]
    },
    {
      "cell_type": "code",
      "source": [
        "X_train, X_test, y_train, y_test = train_test_split(X, y, train_size=0.8, random_state=0)"
      ],
      "metadata": {
        "id": "IjQ9RAeCdHv3"
      },
      "execution_count": 180,
      "outputs": []
    },
    {
      "cell_type": "code",
      "source": [
        "scaler = StandardScaler()\n",
        "X_train_scaled = scaler.fit_transform(X_train)\n",
        "X_test_scaled = scaler.transform(X_test)\n",
        "\n",
        "oversampler = RandomOverSampler()\n",
        "X_resampled, y_resampled = oversampler.fit_resample(X_train_scaled, y_train.iloc[:, 0].values)"
      ],
      "metadata": {
        "id": "ZDTiqe9BkiJm"
      },
      "execution_count": 181,
      "outputs": []
    },
    {
      "cell_type": "code",
      "source": [
        "instancia_red = MLPClassifier(solver='lbfgs', random_state=0, max_iter=1000, hidden_layer_sizes=(500, 50), learning_rate_init=0.001)\n",
        "\n",
        "print(instancia_red)"
      ],
      "metadata": {
        "colab": {
          "base_uri": "https://localhost:8080/"
        },
        "id": "M3AWz8SVdMtG",
        "outputId": "5c992959-0f80-4164-d0ea-aa11d9326a3f"
      },
      "execution_count": 182,
      "outputs": [
        {
          "output_type": "stream",
          "name": "stdout",
          "text": [
            "MLPClassifier(hidden_layer_sizes=(500, 50), max_iter=1000, random_state=0,\n",
            "              solver='lbfgs')\n"
          ]
        }
      ]
    },
    {
      "cell_type": "code",
      "source": [
        "instancia_red.fit(X_resampled, y_resampled)\n",
        "\n",
        "# Realiza predicciones en el conjunto de prueba\n",
        "predicciones = instancia_red.predict(X_test_scaled)"
      ],
      "metadata": {
        "id": "1veYRAD5dXp_"
      },
      "execution_count": 183,
      "outputs": []
    },
    {
      "cell_type": "code",
      "source": [
        "print(\"Las predicciones en Testing son: {}\".format(predicciones))"
      ],
      "metadata": {
        "colab": {
          "base_uri": "https://localhost:8080/"
        },
        "id": "fOu7r93TdZjB",
        "outputId": "8312389c-0dce-405b-88a3-803d61f695ab"
      },
      "execution_count": 184,
      "outputs": [
        {
          "output_type": "stream",
          "name": "stdout",
          "text": [
            "Las predicciones en Testing son: ['R5' 'R5X4' 'R5' 'R5X4' 'R5' 'X4' 'X4' 'X4' 'X4' 'X4' 'R5' 'R5' 'R5' 'R5'\n",
            " 'X4' 'R5' 'R5' 'X4' 'X4' 'R5' 'R5' 'R5']\n"
          ]
        }
      ]
    },
    {
      "cell_type": "code",
      "source": [
        "def indices_general(MC, nombres=None):\n",
        "    precision_global = np.sum(MC.diagonal()) / np.sum(MC)\n",
        "    error_global = 1 - precision_global\n",
        "    return {\"Matriz de Confusión\": MC, \"Precisión Global\": precision_global, \"Error Global\": error_global}\n"
      ],
      "metadata": {
        "id": "VJ21pOYJdooG"
      },
      "execution_count": 185,
      "outputs": []
    },
    {
      "cell_type": "code",
      "source": [
        "print(\"Dimensiones de y_test:\", y_test.shape)\n",
        "print(\"Dimensiones de predicciones:\", predicciones.shape)\n"
      ],
      "metadata": {
        "colab": {
          "base_uri": "https://localhost:8080/"
        },
        "id": "30onyyV5hXdF",
        "outputId": "6ef0e201-13f2-4746-fbae-33b7e947b706"
      },
      "execution_count": 186,
      "outputs": [
        {
          "output_type": "stream",
          "name": "stdout",
          "text": [
            "Dimensiones de y_test: (22, 1)\n",
            "Dimensiones de predicciones: (22,)\n"
          ]
        }
      ]
    },
    {
      "cell_type": "code",
      "source": [
        "MC = confusion_matrix(y_test, predicciones)\n",
        "indices = indices_general(MC, list(np.unique(y_test)))\n",
        "\n",
        "for k in indices:\n",
        "    print(\"\\n%s:\\n%s\" % (k, str(indices[k])))\n",
        "\n",
        "#scores = cross_val_score(instancia_red, X_train_scaled, y_train.iloc[:, 0].values, cv=3)  # Reducir el número de divisiones\n",
        "#print(\"Precisión media de la validación cruzada:\", np.mean(scores))"
      ],
      "metadata": {
        "colab": {
          "base_uri": "https://localhost:8080/"
        },
        "id": "U_a29m26dtqu",
        "outputId": "3ab33773-d0cb-4a14-cb72-88fd55c99185"
      },
      "execution_count": 187,
      "outputs": [
        {
          "output_type": "stream",
          "name": "stdout",
          "text": [
            "\n",
            "Matriz de Confusión:\n",
            "[[7 0 0]\n",
            " [2 2 2]\n",
            " [3 0 6]]\n",
            "\n",
            "Precisión Global:\n",
            "0.6818181818181818\n",
            "\n",
            "Error Global:\n",
            "0.31818181818181823\n"
          ]
        }
      ]
    },
    {
      "cell_type": "code",
      "source": [
        "import os\n",
        "import pandas as pd\n",
        "import numpy  as np\n",
        "import matplotlib.pyplot as plt\n",
        "from sklearn.model_selection import train_test_split\n",
        "from sklearn.neural_network import MLPClassifier\n",
        "from sklearn.metrics import confusion_matrix\n",
        "from pandas import DataFrame\n",
        "from matplotlib import colors as mcolors\n",
        "import os\n",
        "import pandas as pd\n",
        "\n",
        "os.chdir(\"/content/Datos\")\n",
        "datos = pd.read_csv('DatasetVirus.csv',delimiter=',',decimal=\".\")\n",
        "print(datos.shape)\n",
        "print(datos.head())\n",
        "print(datos.info())\n",
        "\n",
        "X = datos.iloc[0:,1:34]\n",
        "print(X.head())\n",
        "y = datos.iloc[:,34:35]\n",
        "print(y.head())\n",
        "\n",
        "X_train, X_test, y_train, y_test = train_test_split(X, y, train_size=0.8, random_state=0)\n",
        "\n",
        "instancia_red = MLPClassifier(solver='lbfgs', random_state=0)\n",
        "print(instancia_red)\n",
        "\n",
        "instancia_red.fit(X_train,y_train.iloc[:,0].values)\n",
        "\n",
        "print(\"Las predicciones en Testing son: {}\".format(instancia_red.predict(X_test)))\n",
        "\n",
        "def indices_general(MC, nombres = None):\n",
        "    precision_global = np.sum(MC.diagonal()) / np.sum(MC)\n",
        "    error_global = 1 - precision_global\n",
        "   # precision_categoria  = pd.DataFrame(MC.diagonal()/np.sum(MC,axis = 1)).T\n",
        "   # if nombres!=None:\n",
        "      #  precision_categoria.columns = nombres\n",
        "    return {\"Matriz de Confusión\":MC,\n",
        "            \"Precisión Global\":precision_global,\n",
        "            \"Error Global\":error_global}\n",
        "        #    \"Precisión por categoría\":precision_categoria}\n",
        "\n",
        "prediccion = instancia_red.predict(X_test)\n",
        "MC = confusion_matrix(y_test, prediccion)\n",
        "indices = indices_general(MC,list(np.unique(y)))\n",
        "for k in indices:\n",
        "    print(\"\\n%s:\\n%s\"%(k,str(indices[k])))"
      ],
      "metadata": {
        "colab": {
          "base_uri": "https://localhost:8080/"
        },
        "id": "YTr21FrWfhuo",
        "outputId": "d43e832c-2554-4394-9f9d-b41cfac7a11a"
      },
      "execution_count": 188,
      "outputs": [
        {
          "output_type": "stream",
          "name": "stdout",
          "text": [
            "(108, 35)\n",
            "     Nombre       Ala    B       Cys       Asp       Glu       Phe       Gly  \\\n",
            "0  AB014795  1.869159  0.0  1.869159  0.934579  7.476636  1.869159  6.542056   \n",
            "1  AF062029  3.680982  0.0  3.680982  2.453988  5.521472  3.067485  7.975460   \n",
            "2  AF062031  3.246753  0.0  3.896104  2.597403  5.194805  3.246753  7.142857   \n",
            "3  AF062033  3.164557  0.0  3.797468  2.531646  3.797468  3.164557  8.860759   \n",
            "4  AF107771  6.698565  0.0  1.435407  4.784689  9.090909  3.827751  7.655502   \n",
            "\n",
            "        His        Ile  ...  Z  Num Amino Acidos  Peso Molecular  pI Teorico  \\\n",
            "0  1.869159  10.280374  ...  0               107        12204.05        9.86   \n",
            "1  2.453988  11.042945  ...  0               163        17929.58        8.92   \n",
            "2  2.597403  11.038961  ...  0               154        17112.73        9.05   \n",
            "3  2.531646   9.493671  ...  0               158        17393.91        9.43   \n",
            "4  5.263158   2.870813  ...  0               209        24021.07        5.99   \n",
            "\n",
            "   Carbon  Hidrogeno  Nitrogeno  Oxigeno  Sulfuro  Clasificacion  \n",
            "0     538        886        160      159        2           R5X4  \n",
            "1     791       1275        221      239        7           R5X4  \n",
            "2     758       1215        209      225        8           R5X4  \n",
            "3     765       1226        220      229        7           R5X4  \n",
            "4    1082       1622        298      310        8           R5X4  \n",
            "\n",
            "[5 rows x 35 columns]\n",
            "<class 'pandas.core.frame.DataFrame'>\n",
            "RangeIndex: 108 entries, 0 to 107\n",
            "Data columns (total 35 columns):\n",
            " #   Column            Non-Null Count  Dtype  \n",
            "---  ------            --------------  -----  \n",
            " 0   Nombre            108 non-null    object \n",
            " 1   Ala               108 non-null    float64\n",
            " 2   B                 108 non-null    float64\n",
            " 3   Cys               108 non-null    float64\n",
            " 4   Asp               108 non-null    float64\n",
            " 5   Glu               108 non-null    float64\n",
            " 6   Phe               108 non-null    float64\n",
            " 7   Gly               108 non-null    float64\n",
            " 8   His               108 non-null    float64\n",
            " 9   Ile               108 non-null    float64\n",
            " 10  Lys               108 non-null    float64\n",
            " 11  Leu               108 non-null    float64\n",
            " 12  Met               108 non-null    float64\n",
            " 13  Asn               108 non-null    float64\n",
            " 14  Pyl               108 non-null    int64  \n",
            " 15  Pro               108 non-null    float64\n",
            " 16  Gln               108 non-null    float64\n",
            " 17  Arg               108 non-null    float64\n",
            " 18  Ser               108 non-null    float64\n",
            " 19  Thr               108 non-null    float64\n",
            " 20  Sec               108 non-null    int64  \n",
            " 21  Val               108 non-null    float64\n",
            " 22  Trp               108 non-null    float64\n",
            " 23  X                 108 non-null    float64\n",
            " 24  Tyr               108 non-null    float64\n",
            " 25  Z                 108 non-null    int64  \n",
            " 26  Num Amino Acidos  108 non-null    int64  \n",
            " 27  Peso Molecular    108 non-null    float64\n",
            " 28  pI Teorico        108 non-null    float64\n",
            " 29  Carbon            108 non-null    int64  \n",
            " 30  Hidrogeno         108 non-null    int64  \n",
            " 31  Nitrogeno         108 non-null    int64  \n",
            " 32  Oxigeno           108 non-null    int64  \n",
            " 33  Sulfuro           108 non-null    int64  \n",
            " 34  Clasificacion     108 non-null    object \n",
            "dtypes: float64(24), int64(9), object(2)\n",
            "memory usage: 29.7+ KB\n",
            "None\n",
            "        Ala    B       Cys       Asp       Glu       Phe       Gly       His  \\\n",
            "0  1.869159  0.0  1.869159  0.934579  7.476636  1.869159  6.542056  1.869159   \n",
            "1  3.680982  0.0  3.680982  2.453988  5.521472  3.067485  7.975460  2.453988   \n",
            "2  3.246753  0.0  3.896104  2.597403  5.194805  3.246753  7.142857  2.597403   \n",
            "3  3.164557  0.0  3.797468  2.531646  3.797468  3.164557  8.860759  2.531646   \n",
            "4  6.698565  0.0  1.435407  4.784689  9.090909  3.827751  7.655502  5.263158   \n",
            "\n",
            "         Ile       Lys  ...       Tyr  Z  Num Amino Acidos  Peso Molecular  \\\n",
            "0  10.280374  7.476636  ...  1.869159  0               107        12204.05   \n",
            "1  11.042945  7.975460  ...  2.453988  0               163        17929.58   \n",
            "2  11.038961  8.441558  ...  3.246753  0               154        17112.73   \n",
            "3   9.493671  7.594937  ...  3.164557  0               158        17393.91   \n",
            "4   2.870813  5.741627  ...  3.827751  0               209        24021.07   \n",
            "\n",
            "   pI Teorico  Carbon  Hidrogeno  Nitrogeno  Oxigeno  Sulfuro  \n",
            "0        9.86     538        886        160      159        2  \n",
            "1        8.92     791       1275        221      239        7  \n",
            "2        9.05     758       1215        209      225        8  \n",
            "3        9.43     765       1226        220      229        7  \n",
            "4        5.99    1082       1622        298      310        8  \n",
            "\n",
            "[5 rows x 33 columns]\n",
            "  Clasificacion\n",
            "0          R5X4\n",
            "1          R5X4\n",
            "2          R5X4\n",
            "3          R5X4\n",
            "4          R5X4\n",
            "MLPClassifier(random_state=0, solver='lbfgs')\n",
            "Las predicciones en Testing son: ['R5' 'R5' 'R5' 'R5' 'R5' 'R5' 'R5' 'R5' 'R5' 'R5' 'R5' 'R5' 'R5' 'R5'\n",
            " 'R5' 'R5' 'R5' 'R5' 'R5' 'R5' 'R5' 'R5']\n",
            "\n",
            "Matriz de Confusión:\n",
            "[[7 0 0]\n",
            " [6 0 0]\n",
            " [9 0 0]]\n",
            "\n",
            "Precisión Global:\n",
            "0.3181818181818182\n",
            "\n",
            "Error Global:\n",
            "0.6818181818181819\n"
          ]
        },
        {
          "output_type": "stream",
          "name": "stderr",
          "text": [
            "/usr/local/lib/python3.10/dist-packages/sklearn/neural_network/_multilayer_perceptron.py:541: ConvergenceWarning: lbfgs failed to converge (status=2):\n",
            "ABNORMAL_TERMINATION_IN_LNSRCH.\n",
            "\n",
            "Increase the number of iterations (max_iter) or scale the data as shown in:\n",
            "    https://scikit-learn.org/stable/modules/preprocessing.html\n",
            "  self.n_iter_ = _check_optimize_result(\"lbfgs\", opt_res, self.max_iter)\n"
          ]
        }
      ]
    }
  ]
}